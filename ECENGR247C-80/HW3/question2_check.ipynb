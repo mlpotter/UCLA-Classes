{
 "cells": [
  {
   "cell_type": "markdown",
   "metadata": {},
   "source": [
    "# A"
   ]
  },
  {
   "cell_type": "code",
   "execution_count": 1,
   "metadata": {},
   "outputs": [],
   "source": [
    "import torch"
   ]
  },
  {
   "cell_type": "code",
   "execution_count": 2,
   "metadata": {},
   "outputs": [],
   "source": [
    "M = 5\n",
    "N = 3\n",
    "\n",
    "beta = .2\n",
    "alpha = .5\n",
    "D = 1;"
   ]
  },
  {
   "cell_type": "code",
   "execution_count": 3,
   "metadata": {},
   "outputs": [],
   "source": [
    "X = torch.rand((M,N))\n",
    "I = torch.eye(M)"
   ]
  },
  {
   "cell_type": "code",
   "execution_count": 4,
   "metadata": {},
   "outputs": [
    {
     "data": {
      "text/plain": [
       "tensor([[0.5459, 0.3506, 0.3302],\n",
       "        [0.2731, 0.6354, 0.0331],\n",
       "        [0.8603, 0.8923, 0.3528],\n",
       "        [0.4179, 0.8398, 0.9095],\n",
       "        [0.6237, 0.8274, 0.3386]], requires_grad=True)"
      ]
     },
     "execution_count": 4,
     "metadata": {},
     "output_type": "execute_result"
    }
   ],
   "source": [
    "X = torch.rand((M,N))\n",
    "X.requires_grad_(True)"
   ]
  },
  {
   "cell_type": "code",
   "execution_count": 5,
   "metadata": {},
   "outputs": [],
   "source": [
    "K = 1/beta*I + alpha*torch.matmul(X,X.T)\n",
    "L1 = -D/2 * torch.log(torch.det(K))\n",
    "L1.backward()\n",
    "grad_auto = X.grad"
   ]
  },
  {
   "cell_type": "code",
   "execution_count": 6,
   "metadata": {},
   "outputs": [],
   "source": [
    "grad_manual = -D*alpha/2 * torch.matmul((torch.inverse(K).T + torch.inverse(K)),X)"
   ]
  },
  {
   "cell_type": "code",
   "execution_count": 7,
   "metadata": {},
   "outputs": [
    {
     "data": {
      "text/plain": [
       "tensor(0., grad_fn=<MaxBackward1>)"
      ]
     },
     "execution_count": 7,
     "metadata": {},
     "output_type": "execute_result"
    }
   ],
   "source": [
    "(grad_auto-grad_manual).max()"
   ]
  },
  {
   "cell_type": "markdown",
   "metadata": {},
   "source": [
    "# B"
   ]
  },
  {
   "cell_type": "code",
   "execution_count": 1,
   "metadata": {},
   "outputs": [],
   "source": [
    "import torch"
   ]
  },
  {
   "cell_type": "code",
   "execution_count": 2,
   "metadata": {},
   "outputs": [],
   "source": [
    "M = 5\n",
    "N = 3\n",
    "l = 4\n",
    "\n",
    "beta = .2\n",
    "alpha = .5\n",
    "D = 1;"
   ]
  },
  {
   "cell_type": "code",
   "execution_count": 3,
   "metadata": {},
   "outputs": [],
   "source": [
    "X = torch.rand((M,N))\n",
    "Y = torch.rand((M,l))\n",
    "I = torch.eye(M)"
   ]
  },
  {
   "cell_type": "code",
   "execution_count": 4,
   "metadata": {},
   "outputs": [
    {
     "data": {
      "text/plain": [
       "tensor([[0.5519, 0.2019, 0.7249],\n",
       "        [0.9295, 0.1260, 0.2161],\n",
       "        [0.4982, 0.3786, 0.8228],\n",
       "        [0.0566, 0.2287, 0.8418],\n",
       "        [0.9706, 0.8540, 0.0616]], requires_grad=True)"
      ]
     },
     "execution_count": 4,
     "metadata": {},
     "output_type": "execute_result"
    }
   ],
   "source": [
    "X.requires_grad_(True)"
   ]
  },
  {
   "cell_type": "code",
   "execution_count": 5,
   "metadata": {},
   "outputs": [],
   "source": [
    "K = 1/beta*I + alpha*torch.matmul(X,X.T)\n",
    "L2 = -1/2*torch.trace(torch.matmul(torch.matmul(torch.inverse(K),Y),Y.T))"
   ]
  },
  {
   "cell_type": "code",
   "execution_count": 6,
   "metadata": {},
   "outputs": [],
   "source": [
    "L2.backward()"
   ]
  },
  {
   "cell_type": "code",
   "execution_count": 7,
   "metadata": {},
   "outputs": [],
   "source": [
    "grad_auto = X.grad"
   ]
  },
  {
   "cell_type": "code",
   "execution_count": 8,
   "metadata": {},
   "outputs": [],
   "source": [
    "grad_manual = alpha * torch.matmul(torch.matmul(torch.matmul(torch.matmul(torch.inverse(K).T,Y),Y.T),torch.inverse(K).T),X)"
   ]
  },
  {
   "cell_type": "code",
   "execution_count": 9,
   "metadata": {},
   "outputs": [
    {
     "data": {
      "text/plain": [
       "tensor(1.8626e-09, grad_fn=<MaxBackward1>)"
      ]
     },
     "execution_count": 9,
     "metadata": {},
     "output_type": "execute_result"
    }
   ],
   "source": [
    "(grad_auto-grad_manual).max()"
   ]
  },
  {
   "cell_type": "code",
   "execution_count": 10,
   "metadata": {},
   "outputs": [
    {
     "data": {
      "text/plain": [
       "tensor([[0.0146, 0.0060, 0.0153],\n",
       "        [0.0493, 0.0226, 0.0410],\n",
       "        [0.0314, 0.0152, 0.0259],\n",
       "        [0.0276, 0.0127, 0.0249],\n",
       "        [0.0188, 0.0111, 0.0109]])"
      ]
     },
     "execution_count": 10,
     "metadata": {},
     "output_type": "execute_result"
    }
   ],
   "source": [
    "grad_auto"
   ]
  },
  {
   "cell_type": "code",
   "execution_count": 11,
   "metadata": {},
   "outputs": [
    {
     "data": {
      "text/plain": [
       "tensor([[0.0146, 0.0060, 0.0153],\n",
       "        [0.0493, 0.0226, 0.0410],\n",
       "        [0.0314, 0.0152, 0.0259],\n",
       "        [0.0276, 0.0127, 0.0249],\n",
       "        [0.0188, 0.0111, 0.0109]], grad_fn=<MulBackward0>)"
      ]
     },
     "execution_count": 11,
     "metadata": {},
     "output_type": "execute_result"
    }
   ],
   "source": [
    "grad_manual"
   ]
  },
  {
   "cell_type": "code",
   "execution_count": null,
   "metadata": {},
   "outputs": [],
   "source": []
  }
 ],
 "metadata": {
  "kernelspec": {
   "display_name": "Python 3",
   "language": "python",
   "name": "python3"
  },
  "language_info": {
   "codemirror_mode": {
    "name": "ipython",
    "version": 3
   },
   "file_extension": ".py",
   "mimetype": "text/x-python",
   "name": "python",
   "nbconvert_exporter": "python",
   "pygments_lexer": "ipython3",
   "version": "3.7.3"
  }
 },
 "nbformat": 4,
 "nbformat_minor": 4
}
