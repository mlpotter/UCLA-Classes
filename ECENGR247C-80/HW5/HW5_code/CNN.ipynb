{
 "cells": [
  {
   "cell_type": "markdown",
   "metadata": {},
   "source": [
    "# Convolutional neural networks\n",
    "\n",
    "In this notebook, we'll put together our convolutional layers to implement a 3-layer CNN.  Then, we'll ask you to implement a CNN that can achieve > 65% validation error on CIFAR-10.\n",
    "\n",
    "CS231n has built a solid API for building these modular frameworks and training them, and we will use their very well implemented framework as opposed to \"reinventing the wheel.\"  This includes using their Solver, various utility functions, their layer structure, and their implementation of fast CNN layers.  This also includes nndl.fc_net, nndl.layers, and nndl.layer_utils.  As in prior assignments, we thank Serena Yeung & Justin Johnson for permission to use code written for the CS 231n class (cs231n.stanford.edu).  \n",
    "\n",
    "\n",
    "If you have not completed the Spatial BatchNorm Notebook, please see the following description from that notebook:\n",
    "\n",
    "Please copy and paste your prior implemented code from HW #4 to start this assignment.  If you did not correctly implement the layers in HW #4, you may collaborate with a classmate to use their layer implementations from HW #4.  You may also visit TA or Prof OH to correct your implementation.  \n",
    "\n",
    "You'll want to copy and paste from HW #4:\n",
    "    - layers.py for your FC network layers, as well as batchnorm and dropout.\n",
    "    - layer_utils.py for your combined FC network layers.\n",
    "    - optim.py for your optimizers.\n",
    "\n",
    "Be sure to place these in the `nndl/` directory so they're imported correctly.  Note, as announced in class, we will not be releasing our solutions."
   ]
  },
  {
   "cell_type": "code",
   "execution_count": 1,
   "metadata": {},
   "outputs": [
    {
     "name": "stdout",
     "output_type": "stream",
     "text": [
      "<cyfunction col2im_6d_cython at 0x000002321257CC88>\n"
     ]
    }
   ],
   "source": [
    "# As usual, a bit of setup\n",
    "\n",
    "import numpy as np\n",
    "import matplotlib.pyplot as plt\n",
    "from nndl.cnn import *\n",
    "from cs231n.data_utils import get_CIFAR10_data\n",
    "from cs231n.gradient_check import eval_numerical_gradient_array, eval_numerical_gradient\n",
    "from nndl.layers import *\n",
    "from nndl.conv_layers import *\n",
    "from cs231n.fast_layers import *\n",
    "from cs231n.solver import Solver\n",
    "\n",
    "%matplotlib inline\n",
    "plt.rcParams['figure.figsize'] = (10.0, 8.0) # set default size of plots\n",
    "plt.rcParams['image.interpolation'] = 'nearest'\n",
    "plt.rcParams['image.cmap'] = 'gray'\n",
    "\n",
    "# for auto-reloading external modules\n",
    "# see http://stackoverflow.com/questions/1907993/autoreload-of-modules-in-ipython\n",
    "%load_ext autoreload\n",
    "%autoreload 2\n",
    "\n",
    "def rel_error(x, y):\n",
    "  \"\"\" returns relative error \"\"\"\n",
    "  return np.max(np.abs(x - y) / (np.maximum(1e-8, np.abs(x) + np.abs(y))))"
   ]
  },
  {
   "cell_type": "code",
   "execution_count": 2,
   "metadata": {},
   "outputs": [
    {
     "name": "stdout",
     "output_type": "stream",
     "text": [
      "X_train: (49000, 3, 32, 32) \n",
      "y_train: (49000,) \n",
      "X_val: (1000, 3, 32, 32) \n",
      "y_val: (1000,) \n",
      "X_test: (1000, 3, 32, 32) \n",
      "y_test: (1000,) \n"
     ]
    }
   ],
   "source": [
    "# Load the (preprocessed) CIFAR10 data.\n",
    "\n",
    "data = get_CIFAR10_data()\n",
    "for k in data.keys():\n",
    "  print('{}: {} '.format(k, data[k].shape))"
   ]
  },
  {
   "cell_type": "markdown",
   "metadata": {},
   "source": [
    "## Three layer CNN\n",
    "\n",
    "In this notebook, you will implement a three layer CNN.  The `ThreeLayerConvNet` class is in `nndl/cnn.py`.  You'll need to modify that code for this section, including the initialization, as well as the calculation of the loss and gradients.  You should be able to use the building blocks you have either earlier coded or that we have provided.  Be sure to use the fast layers.\n",
    "\n",
    "The architecture of this CNN will be:\n",
    "\n",
    "conv - relu - 2x2 max pool - affine - relu - affine - softmax\n",
    "\n",
    "We won't use batchnorm yet.  You've also done enough of these to know how to debug; use the cells below.\n",
    "\n",
    "Note: As we are implementing several layers CNN networks. The gradient error can be expected for the `eval_numerical_gradient()` function. If your `W1 max relative error` and `W2 max relative error` are around or below 0.01, they should be acceptable. Other errors should be less than 1e-5. "
   ]
  },
  {
   "cell_type": "code",
   "execution_count": 6,
   "metadata": {},
   "outputs": [
    {
     "name": "stdout",
     "output_type": "stream",
     "text": [
      "W1 max relative error: 0.00022102674273321275\n",
      "W2 max relative error: 0.023755654587671298\n",
      "W3 max relative error: 4.1922369320789225e-05\n",
      "b1 max relative error: 1.1632528272375571e-05\n",
      "b2 max relative error: 1.435885554342043e-06\n",
      "b3 max relative error: 8.709922064435798e-10\n"
     ]
    }
   ],
   "source": [
    "num_inputs = 2\n",
    "input_dim = (3, 16, 16)\n",
    "reg = 0.0\n",
    "num_classes = 10\n",
    "X = np.random.randn(num_inputs, *input_dim)\n",
    "y = np.random.randint(num_classes, size=num_inputs)\n",
    "\n",
    "model = ThreeLayerConvNet(num_filters=3, filter_size=3,\n",
    "                          input_dim=input_dim, hidden_dim=7,\n",
    "                          dtype=np.float64)\n",
    "loss, grads = model.loss(X, y)\n",
    "for param_name in sorted(grads):\n",
    "    f = lambda _: model.loss(X, y)[0]\n",
    "    param_grad_num = eval_numerical_gradient(f, model.params[param_name], verbose=False, h=1e-6)\n",
    "    e = rel_error(param_grad_num, grads[param_name])\n",
    "    print('{} max relative error: {}'.format(param_name, rel_error(param_grad_num, grads[param_name])))"
   ]
  },
  {
   "cell_type": "markdown",
   "metadata": {},
   "source": [
    "### Overfit small dataset\n",
    "\n",
    "To check your CNN implementation, let's overfit a small dataset."
   ]
  },
  {
   "cell_type": "code",
   "execution_count": 7,
   "metadata": {},
   "outputs": [
    {
     "name": "stdout",
     "output_type": "stream",
     "text": [
      "(Iteration 1 / 20) loss: 2.364586\n",
      "(Epoch 0 / 10) train acc: 0.270000; val_acc: 0.142000\n",
      "(Iteration 2 / 20) loss: 3.897309\n",
      "(Epoch 1 / 10) train acc: 0.210000; val_acc: 0.120000\n",
      "(Iteration 3 / 20) loss: 2.587546\n",
      "(Iteration 4 / 20) loss: 2.250113\n",
      "(Epoch 2 / 10) train acc: 0.220000; val_acc: 0.108000\n",
      "(Iteration 5 / 20) loss: 2.080509\n",
      "(Iteration 6 / 20) loss: 2.329377\n",
      "(Epoch 3 / 10) train acc: 0.540000; val_acc: 0.155000\n",
      "(Iteration 7 / 20) loss: 2.213046\n",
      "(Iteration 8 / 20) loss: 2.013081\n",
      "(Epoch 4 / 10) train acc: 0.540000; val_acc: 0.167000\n",
      "(Iteration 9 / 20) loss: 1.720941\n",
      "(Iteration 10 / 20) loss: 1.472394\n",
      "(Epoch 5 / 10) train acc: 0.580000; val_acc: 0.175000\n",
      "(Iteration 11 / 20) loss: 1.269525\n",
      "(Iteration 12 / 20) loss: 1.174309\n",
      "(Epoch 6 / 10) train acc: 0.610000; val_acc: 0.171000\n",
      "(Iteration 13 / 20) loss: 1.155775\n",
      "(Iteration 14 / 20) loss: 0.777094\n",
      "(Epoch 7 / 10) train acc: 0.770000; val_acc: 0.194000\n",
      "(Iteration 15 / 20) loss: 0.910162\n",
      "(Iteration 16 / 20) loss: 0.608730\n",
      "(Epoch 8 / 10) train acc: 0.850000; val_acc: 0.222000\n",
      "(Iteration 17 / 20) loss: 0.512748\n",
      "(Iteration 18 / 20) loss: 0.372021\n",
      "(Epoch 9 / 10) train acc: 0.860000; val_acc: 0.195000\n",
      "(Iteration 19 / 20) loss: 0.549441\n",
      "(Iteration 20 / 20) loss: 0.372587\n",
      "(Epoch 10 / 10) train acc: 0.930000; val_acc: 0.206000\n"
     ]
    }
   ],
   "source": [
    "num_train = 100\n",
    "small_data = {\n",
    "  'X_train': data['X_train'][:num_train],\n",
    "  'y_train': data['y_train'][:num_train],\n",
    "  'X_val': data['X_val'],\n",
    "  'y_val': data['y_val'],\n",
    "}\n",
    "\n",
    "model = ThreeLayerConvNet(weight_scale=1e-2)\n",
    "\n",
    "solver = Solver(model, small_data,\n",
    "                num_epochs=10, batch_size=50,\n",
    "                update_rule='adam',\n",
    "                optim_config={\n",
    "                  'learning_rate': 1e-3,\n",
    "                },\n",
    "                verbose=True, print_every=1)\n",
    "solver.train()"
   ]
  },
  {
   "cell_type": "code",
   "execution_count": 8,
   "metadata": {},
   "outputs": [
    {
     "data": {
      "image/png": "[encoded data removed]",
      "text/plain": [
       "<Figure size 720x576 with 2 Axes>"
      ]
     },
     "metadata": {
      "needs_background": "light"
     },
     "output_type": "display_data"
    }
   ],
   "source": [
    "plt.subplot(2, 1, 1)\n",
    "plt.plot(solver.loss_history, 'o')\n",
    "plt.xlabel('iteration')\n",
    "plt.ylabel('loss')\n",
    "\n",
    "plt.subplot(2, 1, 2)\n",
    "plt.plot(solver.train_acc_history, '-o')\n",
    "plt.plot(solver.val_acc_history, '-o')\n",
    "plt.legend(['train', 'val'], loc='upper left')\n",
    "plt.xlabel('epoch')\n",
    "plt.ylabel('accuracy')\n",
    "plt.show()"
   ]
  },
  {
   "cell_type": "markdown",
   "metadata": {},
   "source": [
    "## Train the network\n",
    "\n",
    "Now we train the 3 layer CNN on CIFAR-10 and assess its accuracy."
   ]
  },
  {
   "cell_type": "code",
   "execution_count": 9,
   "metadata": {
    "scrolled": false
   },
   "outputs": [
    {
     "name": "stdout",
     "output_type": "stream",
     "text": [
      "(Iteration 1 / 980) loss: 2.304630\n",
      "(Epoch 0 / 1) train acc: 0.117000; val_acc: 0.097000\n",
      "(Iteration 21 / 980) loss: 2.107427\n",
      "(Iteration 41 / 980) loss: 2.299490\n",
      "(Iteration 61 / 980) loss: 2.037402\n",
      "(Iteration 81 / 980) loss: 1.824624\n",
      "(Iteration 101 / 980) loss: 1.956848\n",
      "(Iteration 121 / 980) loss: 1.776579\n",
      "(Iteration 141 / 980) loss: 1.600286\n",
      "(Iteration 161 / 980) loss: 1.813623\n",
      "(Iteration 181 / 980) loss: 1.583842\n",
      "(Iteration 201 / 980) loss: 2.033325\n",
      "(Iteration 221 / 980) loss: 1.765937\n",
      "(Iteration 241 / 980) loss: 1.862508\n",
      "(Iteration 261 / 980) loss: 1.589407\n",
      "(Iteration 281 / 980) loss: 1.725169\n",
      "(Iteration 301 / 980) loss: 1.547960\n",
      "(Iteration 321 / 980) loss: 1.591477\n",
      "(Iteration 341 / 980) loss: 1.591618\n",
      "(Iteration 361 / 980) loss: 1.822010\n",
      "(Iteration 381 / 980) loss: 1.709555\n",
      "(Iteration 401 / 980) loss: 1.909300\n",
      "(Iteration 421 / 980) loss: 1.558605\n",
      "(Iteration 441 / 980) loss: 1.511913\n",
      "(Iteration 461 / 980) loss: 1.424503\n",
      "(Iteration 481 / 980) loss: 1.598751\n",
      "(Iteration 501 / 980) loss: 1.647390\n",
      "(Iteration 521 / 980) loss: 1.509191\n",
      "(Iteration 541 / 980) loss: 1.554988\n",
      "(Iteration 561 / 980) loss: 1.480685\n",
      "(Iteration 581 / 980) loss: 1.563901\n",
      "(Iteration 601 / 980) loss: 1.657477\n",
      "(Iteration 621 / 980) loss: 1.744823\n",
      "(Iteration 641 / 980) loss: 1.395340\n",
      "(Iteration 661 / 980) loss: 1.693074\n",
      "(Iteration 681 / 980) loss: 1.778899\n",
      "(Iteration 701 / 980) loss: 1.417933\n",
      "(Iteration 721 / 980) loss: 1.754427\n",
      "(Iteration 741 / 980) loss: 1.535386\n",
      "(Iteration 761 / 980) loss: 1.620074\n",
      "(Iteration 781 / 980) loss: 1.245937\n",
      "(Iteration 801 / 980) loss: 1.304316\n",
      "(Iteration 821 / 980) loss: 1.728228\n",
      "(Iteration 841 / 980) loss: 1.761504\n",
      "(Iteration 861 / 980) loss: 1.438008\n",
      "(Iteration 881 / 980) loss: 1.894736\n",
      "(Iteration 901 / 980) loss: 1.272871\n",
      "(Iteration 921 / 980) loss: 1.439679\n",
      "(Iteration 941 / 980) loss: 1.825545\n",
      "(Iteration 961 / 980) loss: 1.360799\n",
      "(Epoch 1 / 1) train acc: 0.441000; val_acc: 0.466000\n"
     ]
    }
   ],
   "source": [
    "model = ThreeLayerConvNet(weight_scale=0.001, hidden_dim=500, reg=0.001)\n",
    "\n",
    "solver = Solver(model, data,\n",
    "                num_epochs=1, batch_size=50,\n",
    "                update_rule='adam',\n",
    "                optim_config={\n",
    "                  'learning_rate': 1e-3,\n",
    "                },\n",
    "                verbose=True, print_every=20)\n",
    "solver.train()"
   ]
  },
  {
   "cell_type": "markdown",
   "metadata": {},
   "source": [
    "# Get > 65% validation accuracy on CIFAR-10.\n",
    "\n",
    "In the last part of the assignment, we'll now ask you to train a CNN to get better than 65% validation accuracy on CIFAR-10.\n",
    "\n",
    "### Things you should try:\n",
    "- Filter size: Above we used 7x7; but VGGNet and onwards showed stacks of 3x3 filters are good.  \n",
    "- Number of filters: Above we used 32 filters. Do more or fewer do better?\n",
    "- Batch normalization: Try adding spatial batch normalization after convolution layers and vanilla batch normalization aafter affine layers. Do your networks train faster?\n",
    "- Network architecture: Can a deeper CNN do better?  Consider these architectures:\n",
    "    - [conv-relu-pool]xN - conv - relu - [affine]xM - [softmax or SVM]\n",
    "    - [conv-relu-pool]XN - [affine]XM - [softmax or SVM]\n",
    "    - [conv-relu-conv-relu-pool]xN - [affine]xM - [softmax or SVM]\n",
    "\n",
    "### Tips for training\n",
    "For each network architecture that you try, you should tune the learning rate and regularization strength. When doing this there are a couple important things to keep in mind:\n",
    "\n",
    "- If the parameters are working well, you should see improvement within a few hundred iterations\n",
    "- Remember the coarse-to-fine approach for hyperparameter tuning: start by testing a large range of hyperparameters for just a few training iterations to find the combinations of parameters that are working at all.\n",
    "- Once you have found some sets of parameters that seem to work, search more finely around these parameters. You may need to train for more epochs."
   ]
  },
  {
   "cell_type": "code",
   "execution_count": 12,
   "metadata": {
    "scrolled": false
   },
   "outputs": [
    {
     "name": "stdout",
     "output_type": "stream",
     "text": [
      "(Iteration 1 / 490) loss: 2.304645\n",
      "(Epoch 0 / 10) train acc: 0.098000; val_acc: 0.121000\n",
      "(Iteration 21 / 490) loss: 1.812656\n",
      "(Iteration 41 / 490) loss: 1.545035\n",
      "(Epoch 1 / 10) train acc: 0.493000; val_acc: 0.492000\n",
      "(Iteration 61 / 490) loss: 1.468290\n",
      "(Iteration 81 / 490) loss: 1.344017\n",
      "(Epoch 2 / 10) train acc: 0.567000; val_acc: 0.553000\n",
      "(Iteration 101 / 490) loss: 1.289569\n",
      "(Iteration 121 / 490) loss: 1.179220\n",
      "(Iteration 141 / 490) loss: 1.082809\n",
      "(Epoch 3 / 10) train acc: 0.593000; val_acc: 0.592000\n",
      "(Iteration 161 / 490) loss: 1.056155\n",
      "(Iteration 181 / 490) loss: 1.037196\n",
      "(Epoch 4 / 10) train acc: 0.688000; val_acc: 0.623000\n",
      "(Iteration 201 / 490) loss: 1.016461\n",
      "(Iteration 221 / 490) loss: 0.972576\n",
      "(Iteration 241 / 490) loss: 0.954136\n",
      "(Epoch 5 / 10) train acc: 0.703000; val_acc: 0.633000\n",
      "(Iteration 261 / 490) loss: 0.845294\n",
      "(Iteration 281 / 490) loss: 0.928544\n",
      "(Epoch 6 / 10) train acc: 0.705000; val_acc: 0.623000\n",
      "(Iteration 301 / 490) loss: 0.866793\n",
      "(Iteration 321 / 490) loss: 0.864300\n",
      "(Iteration 341 / 490) loss: 0.875562\n",
      "(Epoch 7 / 10) train acc: 0.744000; val_acc: 0.655000\n",
      "(Iteration 361 / 490) loss: 0.816512\n",
      "(Iteration 381 / 490) loss: 0.738668\n",
      "(Epoch 8 / 10) train acc: 0.780000; val_acc: 0.652000\n",
      "(Iteration 401 / 490) loss: 0.691402\n",
      "(Iteration 421 / 490) loss: 0.708379\n",
      "(Iteration 441 / 490) loss: 0.685015\n",
      "(Epoch 9 / 10) train acc: 0.763000; val_acc: 0.632000\n",
      "(Iteration 461 / 490) loss: 0.768887\n",
      "(Iteration 481 / 490) loss: 0.698631\n",
      "(Epoch 10 / 10) train acc: 0.798000; val_acc: 0.652000\n"
     ]
    }
   ],
   "source": [
    "# ================================================================ #\n",
    "# YOUR CODE HERE:\n",
    "#   Implement a CNN to achieve greater than 65% validation accuracy\n",
    "#   on CIFAR-10.\n",
    "# ================================================================ #\n",
    "model = ThreeLayerConvNet(weight_scale=0.001, hidden_dim=500, reg=0.001)\n",
    "\n",
    "solver = Solver(model, data,\n",
    "                num_epochs=10, batch_size=1000,\n",
    "                update_rule='adam',\n",
    "                optim_config={\n",
    "                  'learning_rate': 1e-3,\n",
    "                },\n",
    "                verbose=True, print_every=20)\n",
    "solver.train()\n",
    "\n",
    "# ================================================================ #\n",
    "# END YOUR CODE HERE\n",
    "# ================================================================ #\n"
   ]
  },
  {
   "cell_type": "code",
   "execution_count": 13,
   "metadata": {},
   "outputs": [],
   "source": [
    "model.params = solver.best_params"
   ]
  },
  {
   "cell_type": "code",
   "execution_count": 14,
   "metadata": {},
   "outputs": [
    {
     "name": "stdout",
     "output_type": "stream",
     "text": [
      "Validation set accuracy: 0.655\n",
      "Test set accuracy: 0.649\n"
     ]
    }
   ],
   "source": [
    "y_test_pred = np.argmax(model.loss(data['X_test']), axis=1)\n",
    "y_val_pred = np.argmax(model.loss(data['X_val']), axis=1)\n",
    "print('Validation set accuracy: {}'.format(np.mean(y_val_pred == data['y_val'])))\n",
    "print('Test set accuracy: {}'.format(np.mean(y_test_pred == data['y_test'])))"
   ]
  },
  {
   "cell_type": "markdown",
   "metadata": {},
   "source": [
    "## cnn.py"
   ]
  },
  {
   "cell_type": "code",
   "execution_count": null,
   "metadata": {},
   "outputs": [],
   "source": [
    "import numpy as np\n",
    "\n",
    "from nndl.layers import *\n",
    "from nndl.conv_layers import *\n",
    "from cs231n.fast_layers import *\n",
    "from nndl.layer_utils import *\n",
    "from nndl.conv_layer_utils import *\n",
    "\n",
    "import pdb\n",
    "\n",
    "\"\"\" \n",
    "This code was originally written for CS 231n at Stanford University\n",
    "(cs231n.stanford.edu).  It has been modified in various areas for use in the\n",
    "ECE 239AS class at UCLA.  This includes the descriptions of what code to\n",
    "implement as well as some slight potential changes in variable names to be\n",
    "consistent with class nomenclature.  We thank Justin Johnson & Serena Yeung for\n",
    "permission to use this code.  To see the original version, please visit\n",
    "cs231n.stanford.edu.  \n",
    "\"\"\"\n",
    "\n",
    "class ThreeLayerConvNet(object):\n",
    "  \"\"\"\n",
    "  A three-layer convolutional network with the following architecture:\n",
    "  \n",
    "  conv - relu - 2x2 max pool - affine - relu - affine - softmax\n",
    "  \n",
    "  The network operates on minibatches of data that have shape (N, C, H, W)\n",
    "  consisting of N images, each with height H and width W and with C input\n",
    "  channels.\n",
    "  \"\"\"\n",
    "  \n",
    "  def __init__(self, input_dim=(3, 32, 32), num_filters=32, filter_size=7,\n",
    "               hidden_dim=100, num_classes=10, weight_scale=1e-3, reg=0.0,\n",
    "               dtype=np.float32, use_batchnorm=False):\n",
    "    \"\"\"\n",
    "    Initialize a new network.\n",
    "    \n",
    "    Inputs:\n",
    "    - input_dim: Tuple (C, H, W) giving size of input data\n",
    "    - num_filters: Number of filters to use in the convolutional layer\n",
    "    - filter_size: Size of filters to use in the convolutional layer\n",
    "    - hidden_dim: Number of units to use in the fully-connected hidden layer\n",
    "    - num_classes: Number of scores to produce from the final affine layer.\n",
    "    - weight_scale: Scalar giving standard deviation for random initialization\n",
    "      of weights.\n",
    "    - reg: Scalar giving L2 regularization strength\n",
    "    - dtype: numpy datatype to use for computation.\n",
    "    \"\"\"\n",
    "    self.use_batchnorm = use_batchnorm\n",
    "    self.params = {}\n",
    "    self.reg = reg\n",
    "    self.dtype = dtype\n",
    "\n",
    "    \n",
    "    # ================================================================ #\n",
    "    # YOUR CODE HERE:\n",
    "    #   Initialize the weights and biases of a three layer CNN. To initialize:\n",
    "    #     - the biases should be initialized to zeros.\n",
    "    #     - the weights should be initialized to a matrix with entries\n",
    "    #         drawn from a Gaussian distribution with zero mean and \n",
    "    #         standard deviation given by weight_scale.\n",
    "    # ================================================================ #\n",
    "    self.params[\"W1\"] = weight_scale * np.random.randn(num_filters,3,filter_size,filter_size)\n",
    "    self.params[\"b1\"] = np.zeros(num_filters,)\n",
    "\n",
    "    \n",
    "    flattened_size = (1 + (input_dim[1]-2)/2)\n",
    "    \n",
    "    self.params[\"W2\"] = weight_scale * np.random.randn(int(flattened_size**2 * num_filters),hidden_dim)\n",
    "    self.params[\"b2\"] = np.zeros(hidden_dim,)\n",
    "    \n",
    "    self.params[\"W3\"] =  weight_scale * np.random.randn(hidden_dim,num_classes)\n",
    "    self.params[\"b3\"] = np.zeros(num_classes,)\n",
    "\n",
    "    # ================================================================ #\n",
    "    # END YOUR CODE HERE\n",
    "    # ================================================================ #\n",
    "\n",
    "    for k, v in self.params.items():\n",
    "      self.params[k] = v.astype(dtype)\n",
    "     \n",
    " \n",
    "  def loss(self, X, y=None):\n",
    "    \"\"\"\n",
    "    Evaluate loss and gradient for the three-layer convolutional network.\n",
    "    \n",
    "    Input / output: Same API as TwoLayerNet in fc_net.py.\n",
    "    \"\"\"\n",
    "    W1, b1 = self.params['W1'], self.params['b1']\n",
    "    W2, b2 = self.params['W2'], self.params['b2']\n",
    "    W3, b3 = self.params['W3'], self.params['b3']\n",
    "    \n",
    "    # pass conv_param to the forward pass for the convolutional layer\n",
    "    filter_size = W1.shape[2]\n",
    "    conv_param = {'stride': 1, 'pad': (filter_size - 1) / 2}\n",
    "\n",
    "    # pass pool_param to the forward pass for the max-pooling layer\n",
    "    pool_param = {'pool_height': 2, 'pool_width': 2, 'stride': 2}\n",
    "\n",
    "    scores = None\n",
    "    \n",
    "    # ================================================================ #\n",
    "    # YOUR CODE HERE:\n",
    "    #   Implement the forward pass of the three layer CNN.  Store the output\n",
    "    #   scores as the variable \"scores\".\n",
    "    # ================================================================ #\n",
    "    scores, cache_l1 = conv_relu_pool_forward(X, W1, b1, conv_param, pool_param)\n",
    "    output_shape = scores.shape\n",
    "    scores, cache_l2 = affine_relu_forward(scores, W2, b2)\n",
    "    scores, cache_l3 = affine_forward(scores, W3, b3)\n",
    "    \n",
    "    #scores = np.exp(scores-np.max(scores,1)[:,np.newaxis])/np.sum(np.exp(scores-np.max(scores,1)[:,np.newaxis]),1)[:,np.newaxis]\n",
    "\n",
    "    # ================================================================ #\n",
    "    # END YOUR CODE HERE\n",
    "    # ================================================================ #\n",
    "\n",
    "    if y is None:\n",
    "      return scores\n",
    "    \n",
    "    loss, grads = 0, {}\n",
    "    # ================================================================ #\n",
    "    # YOUR CODE HERE:\n",
    "    #   Implement the backward pass of the three layer CNN.  Store the grads\n",
    "    #   in the grads dictionary, exactly as before (i.e., the gradient of \n",
    "    #   self.params[k] will be grads[k]).  Store the loss as \"loss\", and\n",
    "    #   don't forget to add regularization on ALL weight matrices.\n",
    "    # ================================================================ #\n",
    "    soft_loss, dx = softmax_loss(scores, y)\n",
    "    reg_loss = 0.5 * (np.linalg.norm(W1)**2 + np.linalg.norm(W2)**2 + np.linalg.norm(W3)**2)\n",
    "    loss = soft_loss + self.reg*reg_loss\n",
    "    \n",
    "    dx, dw, db = affine_backward(dx, cache_l3)\n",
    "    grads['W3'] = dw + 0.5*self.reg*2*W3\n",
    "    grads['b3'] = db\n",
    "          \n",
    "    dx, dw, db = affine_relu_backward(dx, cache_l2)\n",
    "    grads['W2'] = dw + 0.5*self.reg*2*W2\n",
    "    grads['b2']= db\n",
    "\n",
    "    dx = dx.reshape(*output_shape)\n",
    "    \n",
    "    _, dw, db = conv_relu_pool_backward(dx, cache_l1)\n",
    "    grads['W1'] = dw + 0.5*self.reg*2*W1\n",
    "    grads['b1']= db\n",
    "    # ================================================================ #\n",
    "    # END YOUR CODE HERE\n",
    "    # ================================================================ #\n",
    "\n",
    "    return loss, grads"
   ]
  }
 ],
 "metadata": {
  "kernelspec": {
   "display_name": "Python (py36)",
   "language": "python",
   "name": "py36"
  },
  "language_info": {
   "codemirror_mode": {
    "name": "ipython",
    "version": 3
   },
   "file_extension": ".py",
   "mimetype": "text/x-python",
   "name": "python",
   "nbconvert_exporter": "python",
   "pygments_lexer": "ipython3",
   "version": "3.6.10"
  }
 },
 "nbformat": 4,
 "nbformat_minor": 2
}
