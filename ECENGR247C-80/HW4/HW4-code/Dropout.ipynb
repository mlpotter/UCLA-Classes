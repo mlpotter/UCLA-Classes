{
 "cells": [
  {
   "cell_type": "markdown",
   "metadata": {},
   "source": [
    "# Dropout\n",
    "\n",
    "In this notebook, you will implement dropout.  Then we will ask you to train a network with batchnorm and dropout, and acheive over 55% accuracy on CIFAR-10.\n",
    "\n",
    "CS231n has built a solid API for building these modular frameworks and training them, and we will use their very well implemented framework as opposed to \"reinventing the wheel.\"  This includes using their Solver, various utility functions, and their layer structure.  This also includes nndl.fc_net, nndl.layers, and nndl.layer_utils.  As in prior assignments, we thank Serena Yeung & Justin Johnson for permission to use code written for the CS 231n class (cs231n.stanford.edu).  "
   ]
  },
  {
   "cell_type": "code",
   "execution_count": 1,
   "metadata": {},
   "outputs": [],
   "source": [
    "## Import and setups\n",
    "\n",
    "import time\n",
    "import numpy as np\n",
    "import matplotlib.pyplot as plt\n",
    "from nndl.fc_net import *\n",
    "from nndl.layers import *\n",
    "from cs231n.data_utils import get_CIFAR10_data\n",
    "from cs231n.gradient_check import eval_numerical_gradient, eval_numerical_gradient_array\n",
    "from cs231n.solver import Solver\n",
    "\n",
    "%matplotlib inline\n",
    "plt.rcParams['figure.figsize'] = (10.0, 8.0) # set default size of plots\n",
    "plt.rcParams['image.interpolation'] = 'nearest'\n",
    "plt.rcParams['image.cmap'] = 'gray'\n",
    "\n",
    "# for auto-reloading external modules\n",
    "# see http://stackoverflow.com/questions/1907993/autoreload-of-modules-in-ipython\n",
    "%load_ext autoreload\n",
    "%autoreload 2\n",
    "\n",
    "def rel_error(x, y):\n",
    "  \"\"\" returns relative error \"\"\"\n",
    "  return np.max(np.abs(x - y) / (np.maximum(1e-8, np.abs(x) + np.abs(y))))"
   ]
  },
  {
   "cell_type": "code",
   "execution_count": 2,
   "metadata": {},
   "outputs": [
    {
     "name": "stdout",
     "output_type": "stream",
     "text": [
      "X_train: (49000, 3, 32, 32) \n",
      "y_train: (49000,) \n",
      "X_val: (1000, 3, 32, 32) \n",
      "y_val: (1000,) \n",
      "X_test: (1000, 3, 32, 32) \n",
      "y_test: (1000,) \n"
     ]
    }
   ],
   "source": [
    "# Load the (preprocessed) CIFAR10 data.\n",
    "\n",
    "data = get_CIFAR10_data()\n",
    "for k in data.keys():\n",
    "  print('{}: {} '.format(k, data[k].shape))"
   ]
  },
  {
   "cell_type": "markdown",
   "metadata": {},
   "source": [
    "## Dropout forward pass\n",
    "\n",
    "Implement the training and test time dropout forward pass, `dropout_forward`, in `nndl/layers.py`. After that, test your implementation by running the following cell."
   ]
  },
  {
   "cell_type": "code",
   "execution_count": 3,
   "metadata": {},
   "outputs": [
    {
     "name": "stdout",
     "output_type": "stream",
     "text": [
      "Running tests with p =  0.3\n",
      "Mean of input:  9.998313808847794\n",
      "Mean of train-time output:  10.015185594642938\n",
      "Mean of test-time output:  9.998313808847794\n",
      "Fraction of train-time output set to zero:  0.69944\n",
      "Fraction of test-time output set to zero:  0.0\n",
      "Running tests with p =  0.6\n",
      "Mean of input:  9.998313808847794\n",
      "Mean of train-time output:  10.007975101174855\n",
      "Mean of test-time output:  9.998313808847794\n",
      "Fraction of train-time output set to zero:  0.399376\n",
      "Fraction of test-time output set to zero:  0.0\n",
      "Running tests with p =  0.75\n",
      "Mean of input:  9.998313808847794\n",
      "Mean of train-time output:  9.998911488980575\n",
      "Mean of test-time output:  9.998313808847794\n",
      "Fraction of train-time output set to zero:  0.249968\n",
      "Fraction of test-time output set to zero:  0.0\n"
     ]
    }
   ],
   "source": [
    "x = np.random.randn(500, 500) + 10\n",
    "\n",
    "for p in [0.3, 0.6, 0.75]:\n",
    "  out, _ = dropout_forward(x, {'mode': 'train', 'p': p})\n",
    "  out_test, _ = dropout_forward(x, {'mode': 'test', 'p': p})\n",
    "\n",
    "  print('Running tests with p = ', p)\n",
    "  print('Mean of input: ', x.mean())\n",
    "  print('Mean of train-time output: ', out.mean())\n",
    "  print('Mean of test-time output: ', out_test.mean())\n",
    "  print('Fraction of train-time output set to zero: ', (out == 0).mean())\n",
    "  print('Fraction of test-time output set to zero: ', (out_test == 0).mean())"
   ]
  },
  {
   "cell_type": "markdown",
   "metadata": {},
   "source": [
    "## Dropout backward pass\n",
    "\n",
    "Implement the backward pass, `dropout_backward`, in `nndl/layers.py`.  After that, test your gradients by running the following cell:"
   ]
  },
  {
   "cell_type": "code",
   "execution_count": 4,
   "metadata": {},
   "outputs": [
    {
     "name": "stdout",
     "output_type": "stream",
     "text": [
      "dx relative error:  1.8928976558339643e-11\n"
     ]
    }
   ],
   "source": [
    "x = np.random.randn(10, 10) + 10\n",
    "dout = np.random.randn(*x.shape)\n",
    "\n",
    "dropout_param = {'mode': 'train', 'p': 0.8, 'seed': 123}\n",
    "out, cache = dropout_forward(x, dropout_param)\n",
    "dx = dropout_backward(dout, cache)\n",
    "dx_num = eval_numerical_gradient_array(lambda xx: dropout_forward(xx, dropout_param)[0], x, dout)\n",
    "\n",
    "print('dx relative error: ', rel_error(dx, dx_num))"
   ]
  },
  {
   "cell_type": "markdown",
   "metadata": {},
   "source": [
    "## Implement a fully connected neural network with dropout layers\n",
    "\n",
    "Modify the `FullyConnectedNet()` class in `nndl/fc_net.py` to incorporate dropout.  A dropout layer should be incorporated after every ReLU layer.  Concretely, there shouldn't be a dropout at the output layer since there is no ReLU at the output layer. You will need to modify the class in the following areas:\n",
    "\n",
    "(1) In the forward pass, you will need to incorporate a dropout layer after every relu layer.\n",
    "\n",
    "(2) In the backward pass, you will need to incorporate a dropout backward pass layer.\n",
    "\n",
    "Check your implementation by running the following code.  Our W1 gradient relative error is on the order of 1e-6 (the largest of all the relative errors)."
   ]
  },
  {
   "cell_type": "code",
   "execution_count": 5,
   "metadata": {},
   "outputs": [
    {
     "name": "stdout",
     "output_type": "stream",
     "text": [
      "Running check with dropout =  0\n",
      "Initial loss:  2.305194827376523\n",
      "W0 relative error: 5.254262643268946e-07\n",
      "W1 relative error: 1.9848830397288106e-05\n",
      "W2 relative error: 1.6058572280885614e-07\n",
      "b0 relative error: 3.2052091264953954e-06\n",
      "b1 relative error: 1.2013393550446591e-07\n",
      "b2 relative error: 1.423083336421778e-10\n",
      "\n",
      "\n",
      "Running check with dropout =  0.25\n",
      "Initial loss:  2.312646834543345\n",
      "W0 relative error: 1.4838546739636279e-08\n",
      "W1 relative error: 2.34278233273103e-10\n",
      "W2 relative error: 1.2890794099320613e-08\n",
      "b0 relative error: 1.5292179223310147e-09\n",
      "b1 relative error: 1.8422707371047494e-10\n",
      "b2 relative error: 1.5035549207802249e-10\n",
      "\n",
      "\n",
      "Running check with dropout =  0.5\n",
      "Initial loss:  2.302437587688794\n",
      "W0 relative error: 8.781117988653114e-08\n",
      "W1 relative error: 2.8358418963944355e-08\n",
      "W2 relative error: 4.3413246357224405e-07\n",
      "b0 relative error: 3.806557463224407e-09\n",
      "b1 relative error: 1.3839758741927635e-09\n",
      "b2 relative error: 1.2806826465527571e-10\n",
      "\n",
      "\n"
     ]
    }
   ],
   "source": [
    "N, D, H1, H2, C = 2, 15, 20, 30, 10\n",
    "X = np.random.randn(N, D)\n",
    "y = np.random.randint(C, size=(N,))\n",
    "\n",
    "for dropout in [0, 0.25, 0.5]:\n",
    "  print('Running check with dropout = ', dropout)\n",
    "  model = FullyConnectedNet([H1, H2], input_dim=D, num_classes=C,\n",
    "                            weight_scale=5e-2, dtype=np.float64,\n",
    "                            dropout=dropout, seed=123)\n",
    "\n",
    "  loss, grads = model.loss(X, y)\n",
    "  print('Initial loss: ', loss)\n",
    "\n",
    "  for name in sorted(grads):\n",
    "    f = lambda _: model.loss(X, y)[0]\n",
    "    grad_num = eval_numerical_gradient(f, model.params[name], verbose=False, h=1e-5)\n",
    "    print('{} relative error: {}'.format(name, rel_error(grad_num, grads[name])))\n",
    "  print('\\n')"
   ]
  },
  {
   "cell_type": "markdown",
   "metadata": {},
   "source": [
    "## Dropout as a regularizer\n",
    "\n",
    "In class, we claimed that dropout acts as a regularizer by effectively bagging.  To check this, we will train two small networks, one with dropout and one without dropout.  "
   ]
  },
  {
   "cell_type": "code",
   "execution_count": 6,
   "metadata": {},
   "outputs": [
    {
     "name": "stdout",
     "output_type": "stream",
     "text": [
      "(Iteration 1 / 125) loss: 2.300804\n",
      "(Epoch 0 / 25) train acc: 0.220000; val_acc: 0.168000\n",
      "(Epoch 1 / 25) train acc: 0.188000; val_acc: 0.147000\n",
      "(Epoch 2 / 25) train acc: 0.266000; val_acc: 0.200000\n",
      "(Epoch 3 / 25) train acc: 0.338000; val_acc: 0.262000\n",
      "(Epoch 4 / 25) train acc: 0.378000; val_acc: 0.278000\n",
      "(Epoch 5 / 25) train acc: 0.428000; val_acc: 0.297000\n",
      "(Epoch 6 / 25) train acc: 0.468000; val_acc: 0.323000\n",
      "(Epoch 7 / 25) train acc: 0.494000; val_acc: 0.287000\n",
      "(Epoch 8 / 25) train acc: 0.566000; val_acc: 0.328000\n",
      "(Epoch 9 / 25) train acc: 0.572000; val_acc: 0.322000\n",
      "(Epoch 10 / 25) train acc: 0.622000; val_acc: 0.324000\n",
      "(Epoch 11 / 25) train acc: 0.670000; val_acc: 0.279000\n",
      "(Epoch 12 / 25) train acc: 0.710000; val_acc: 0.338000\n",
      "(Epoch 13 / 25) train acc: 0.746000; val_acc: 0.319000\n",
      "(Epoch 14 / 25) train acc: 0.792000; val_acc: 0.307000\n",
      "(Epoch 15 / 25) train acc: 0.834000; val_acc: 0.297000\n",
      "(Epoch 16 / 25) train acc: 0.876000; val_acc: 0.327000\n",
      "(Epoch 17 / 25) train acc: 0.886000; val_acc: 0.320000\n",
      "(Epoch 18 / 25) train acc: 0.918000; val_acc: 0.314000\n",
      "(Epoch 19 / 25) train acc: 0.922000; val_acc: 0.290000\n",
      "(Epoch 20 / 25) train acc: 0.944000; val_acc: 0.306000\n",
      "(Iteration 101 / 125) loss: 0.156105\n",
      "(Epoch 21 / 25) train acc: 0.968000; val_acc: 0.302000\n",
      "(Epoch 22 / 25) train acc: 0.978000; val_acc: 0.302000\n",
      "(Epoch 23 / 25) train acc: 0.976000; val_acc: 0.289000\n",
      "(Epoch 24 / 25) train acc: 0.986000; val_acc: 0.285000\n",
      "(Epoch 25 / 25) train acc: 0.978000; val_acc: 0.311000\n",
      "(Iteration 1 / 125) loss: 2.301328\n",
      "(Epoch 0 / 25) train acc: 0.154000; val_acc: 0.143000\n",
      "(Epoch 1 / 25) train acc: 0.214000; val_acc: 0.195000\n",
      "(Epoch 2 / 25) train acc: 0.252000; val_acc: 0.216000\n",
      "(Epoch 3 / 25) train acc: 0.276000; val_acc: 0.200000\n",
      "(Epoch 4 / 25) train acc: 0.308000; val_acc: 0.254000\n",
      "(Epoch 5 / 25) train acc: 0.316000; val_acc: 0.241000\n",
      "(Epoch 6 / 25) train acc: 0.322000; val_acc: 0.282000\n",
      "(Epoch 7 / 25) train acc: 0.354000; val_acc: 0.273000\n",
      "(Epoch 8 / 25) train acc: 0.364000; val_acc: 0.276000\n",
      "(Epoch 9 / 25) train acc: 0.408000; val_acc: 0.282000\n",
      "(Epoch 10 / 25) train acc: 0.454000; val_acc: 0.302000\n",
      "(Epoch 11 / 25) train acc: 0.472000; val_acc: 0.296000\n",
      "(Epoch 12 / 25) train acc: 0.496000; val_acc: 0.318000\n",
      "(Epoch 13 / 25) train acc: 0.512000; val_acc: 0.310000\n",
      "(Epoch 14 / 25) train acc: 0.532000; val_acc: 0.318000\n",
      "(Epoch 15 / 25) train acc: 0.558000; val_acc: 0.331000\n",
      "(Epoch 16 / 25) train acc: 0.574000; val_acc: 0.300000\n",
      "(Epoch 17 / 25) train acc: 0.624000; val_acc: 0.324000\n",
      "(Epoch 18 / 25) train acc: 0.610000; val_acc: 0.325000\n",
      "(Epoch 19 / 25) train acc: 0.620000; val_acc: 0.327000\n",
      "(Epoch 20 / 25) train acc: 0.662000; val_acc: 0.340000\n",
      "(Iteration 101 / 125) loss: 1.296187\n",
      "(Epoch 21 / 25) train acc: 0.688000; val_acc: 0.323000\n",
      "(Epoch 22 / 25) train acc: 0.708000; val_acc: 0.323000\n",
      "(Epoch 23 / 25) train acc: 0.742000; val_acc: 0.345000\n",
      "(Epoch 24 / 25) train acc: 0.756000; val_acc: 0.325000\n",
      "(Epoch 25 / 25) train acc: 0.782000; val_acc: 0.348000\n"
     ]
    }
   ],
   "source": [
    "# Train two identical nets, one with dropout and one without\n",
    "\n",
    "num_train = 500\n",
    "small_data = {\n",
    "  'X_train': data['X_train'][:num_train],\n",
    "  'y_train': data['y_train'][:num_train],\n",
    "  'X_val': data['X_val'],\n",
    "  'y_val': data['y_val'],\n",
    "}\n",
    "\n",
    "solvers = {}\n",
    "dropout_choices = [0, 0.6]\n",
    "for dropout in dropout_choices:\n",
    "  model = FullyConnectedNet([100, 100, 100], dropout=dropout)\n",
    "\n",
    "  solver = Solver(model, small_data,\n",
    "                  num_epochs=25, batch_size=100,\n",
    "                  update_rule='adam',\n",
    "                  optim_config={\n",
    "                    'learning_rate': 5e-4,\n",
    "                  },\n",
    "                  verbose=True, print_every=100)\n",
    "  solver.train()\n",
    "  solvers[dropout] = solver"
   ]
  },
  {
   "cell_type": "code",
   "execution_count": 7,
   "metadata": {},
   "outputs": [
    {
     "data": {
      "image/png": "[encoded data removed]",
      "text/plain": [
       "<Figure size 1080x1080 with 2 Axes>"
      ]
     },
     "metadata": {
      "needs_background": "light"
     },
     "output_type": "display_data"
    }
   ],
   "source": [
    "# Plot train and validation accuracies of the two models\n",
    "\n",
    "train_accs = []\n",
    "val_accs = []\n",
    "for dropout in dropout_choices:\n",
    "  solver = solvers[dropout]\n",
    "  train_accs.append(solver.train_acc_history[-1])\n",
    "  val_accs.append(solver.val_acc_history[-1])\n",
    "\n",
    "plt.subplot(3, 1, 1)\n",
    "for dropout in dropout_choices:\n",
    "  plt.plot(solvers[dropout].train_acc_history, 'o', label='%.2f dropout' % dropout)\n",
    "plt.title('Train accuracy')\n",
    "plt.xlabel('Epoch')\n",
    "plt.ylabel('Accuracy')\n",
    "plt.legend(ncol=2, loc='lower right')\n",
    "  \n",
    "plt.subplot(3, 1, 2)\n",
    "for dropout in dropout_choices:\n",
    "  plt.plot(solvers[dropout].val_acc_history, 'o', label='%.2f dropout' % dropout)\n",
    "plt.title('Val accuracy')\n",
    "plt.xlabel('Epoch')\n",
    "plt.ylabel('Accuracy')\n",
    "plt.legend(ncol=2, loc='lower right')\n",
    "\n",
    "plt.gcf().set_size_inches(15, 15)\n",
    "plt.show()"
   ]
  },
  {
   "cell_type": "markdown",
   "metadata": {},
   "source": [
    "## Question\n",
    "\n",
    "Based off the results of this experiment, is dropout performing regularization?  Explain your answer."
   ]
  },
  {
   "cell_type": "markdown",
   "metadata": {},
   "source": [
    "## Answer:\n",
    "Yes dropout is performing regularization as expected. As shown in the training accuracy curves, the training accuracy of the model with 0.6 dropout is lower than the training accuracy of the model without dropout (1.0 versus $\\approx$.70 respectively). However, the gap between the validation accuracy of the model with dropout versus without dropout is reduced by a factor of two, revealing that dropout helps with overfitting. Additionally, even though the training accuracy with dropout is smaller than without dropout, the validation accuracy with dropout is significantly larger than without dropout ( $\\approx$ .35 versus  $\\approx$ .3). \n",
    "\n",
    "Therefore, the gap between the training accuracy and the validation accuracy for the model with dropout has become much smaller (which  means overfitting has been prevented/annealed) compared to the gap between the training accuracy and the validation accuracy for the model without dropout (the gap is very large meaning overfitting has occurred), and the validation accuracy with dropout is significantly larger compared to without dropout."
   ]
  },
  {
   "cell_type": "markdown",
   "metadata": {},
   "source": [
    "## Final part of the assignment\n",
    "\n",
    "Get over 55% validation accuracy on CIFAR-10 by using the layers you have implemented.  You will be graded according to the following equation:\n",
    "\n",
    "min(floor((X - 32%)) / 28%, 1) \n",
    "where if you get 60% or higher validation accuracy, you get full points."
   ]
  },
  {
   "cell_type": "code",
   "execution_count": 8,
   "metadata": {},
   "outputs": [],
   "source": [
    "from time import time"
   ]
  },
  {
   "cell_type": "code",
   "execution_count": 9,
   "metadata": {
    "scrolled": false
   },
   "outputs": [
    {
     "name": "stdout",
     "output_type": "stream",
     "text": [
      "Outer Loop 0\n",
      "adam 0.001 [700, 700, 700, 700] 0.95 0.7 150\n",
      "Val Accuracy: 0.602\n",
      "Time in s:  4741.734760284424\n",
      "----------------------------------------------------------------------------------------------------\n",
      "Outer Loop 0\n",
      "adam 0.001 [600, 600, 600, 600] 0.95 0.7 150\n",
      "Val Accuracy: 0.591\n",
      "Time in s:  4510.058525323868\n",
      "----------------------------------------------------------------------------------------------------\n"
     ]
    }
   ],
   "source": [
    "# ================================================================ #\n",
    "# YOUR CODE HERE:\n",
    "#   Implement a FC-net that achieves at least 55% validation accuracy\n",
    "#   on CIFAR-10.\n",
    "# ================================================================ #\n",
    "#optimizer = 'sgd_momentum'\n",
    "best_model = None\n",
    "\n",
    "#layer_dims = [420,420,420]\n",
    "weight_scale = 0.01\n",
    "#learning_rate = 3e-3\n",
    "#lr_decay = 0.95\n",
    "\n",
    "learning_rates = [1e-3]#,5e3]\n",
    "lr_decays = [.95]\n",
    "layer_dims = [[700,700,700,700],[600,600,600,600]]\n",
    "dropouts = [.7]#,.2]\n",
    "batch_sizes = [150]#,250]\n",
    "optimizers = [\"adam\"]\n",
    "\n",
    "best_val_acc = 0\n",
    "for i,batch_size in enumerate(batch_sizes):\n",
    "    for lr_decay in lr_decays:\n",
    "        for optimizer in optimizers:\n",
    "            for dropout in dropouts:\n",
    "                for lr in learning_rates:\n",
    "                    for layer_dim in layer_dims:\n",
    "                        print(\"Outer Loop {}\".format(i))\n",
    "                        print(optimizer,lr,layer_dim,lr_decay,dropout,batch_size)\n",
    "                        start_time = time()\n",
    "                        model = FullyConnectedNet(layer_dim, weight_scale=weight_scale,\n",
    "                                                  use_batchnorm=True,dropout=dropout,reg=1e-4)\n",
    "\n",
    "                        solver = Solver(model, data,\n",
    "                                        num_epochs=55, batch_size=batch_size,\n",
    "                                        update_rule=optimizer,\n",
    "                                        optim_config={\n",
    "                                          'learning_rate': lr,\n",
    "                                        },\n",
    "                                        lr_decay=lr_decay,\n",
    "                                        verbose=False)\n",
    "\n",
    "                        solver.train()\n",
    "\n",
    "                        if solver.best_val_acc > best_val_acc:\n",
    "                            best_val_acc = solver.best_val_acc\n",
    "                            best_params = solver.best_params\n",
    "                            best_model = solver.model\n",
    "                            \n",
    "                        end_time = time()\n",
    "                        print(\"Val Accuracy: {}\".format(solver.best_val_acc))\n",
    "                        print(\"Time in s: \",end_time-start_time)\n",
    "                        print(\"--\"*50)\n",
    "\n",
    "# ================================================================ #\n",
    "# END YOUR CODE HERE\n",
    "# ================================================================ #\n"
   ]
  },
  {
   "cell_type": "code",
   "execution_count": 10,
   "metadata": {},
   "outputs": [
    {
     "name": "stdout",
     "output_type": "stream",
     "text": [
      "Validation set accuracy: 0.615\n",
      "Test set accuracy: 0.612\n"
     ]
    }
   ],
   "source": [
    "y_test_pred = np.argmax(best_model.loss(data['X_test']), axis=1)\n",
    "y_val_pred = np.argmax(best_model.loss(data['X_val']), axis=1)\n",
    "print('Validation set accuracy: {}'.format(np.mean(y_val_pred == data['y_val'])))\n",
    "print('Test set accuracy: {}'.format(np.mean(y_test_pred == data['y_test'])))"
   ]
  },
  {
   "cell_type": "markdown",
   "metadata": {},
   "source": [
    "## layers.py"
   ]
  },
  {
   "cell_type": "code",
   "execution_count": null,
   "metadata": {},
   "outputs": [],
   "source": [
    "def dropout_forward(x, dropout_param):\n",
    "    \"\"\"\n",
    "    Performs the forward pass for (inverted) dropout.\n",
    "\n",
    "    Inputs:\n",
    "    - x: Input data, of any shape\n",
    "    - dropout_param: A dictionary with the following keys:\n",
    "    - p: Dropout parameter. We drop each neuron output with probability p.\n",
    "    - mode: 'test' or 'train'. If the mode is train, then perform dropout;\n",
    "      if the mode is test, then just return the input.\n",
    "    - seed: Seed for the random number generator. Passing seed makes this\n",
    "      function deterministic, which is needed for gradient checking but not in\n",
    "      real networks.\n",
    "\n",
    "    Outputs:\n",
    "    - out: Array of the same shape as x.\n",
    "    - cache: A tuple (dropout_param, mask). In training mode, mask is the dropout\n",
    "    mask that was used to multiply the input; in test mode, mask is None.\n",
    "    \"\"\"\n",
    "    p, mode = dropout_param['p'], dropout_param['mode']\n",
    "    if 'seed' in dropout_param:\n",
    "        np.random.seed(dropout_param['seed'])\n",
    "\n",
    "    mask = None \n",
    "    out = None\n",
    "\n",
    "    if mode == 'train':\n",
    "    # ================================================================ #\n",
    "    # YOUR CODE HERE:\n",
    "    #   Implement the inverted dropout forward pass during training time.  \n",
    "    #   Store the masked and scaled activations in out, and store the \n",
    "    #   dropout mask as the variable mask.\n",
    "    # ================================================================ #\n",
    "        mask = (np.random.rand(*x.shape))<p\n",
    "        out = (mask*x)/p\n",
    "    # ================================================================ #\n",
    "    # END YOUR CODE HERE\n",
    "    # ================================================================ #\n",
    "        pass\n",
    "    elif mode == 'test':\n",
    "\n",
    "    # ================================================================ #\n",
    "    # YOUR CODE HERE:\n",
    "    #   Implement the inverted dropout forward pass during test time.\n",
    "    # ================================================================ #\n",
    "        out = x\n",
    "    # ================================================================ #\n",
    "    # END YOUR CODE HERE\n",
    "    # ================================================================ #\n",
    "        pass\n",
    "    cache = (dropout_param, mask)\n",
    "    out = out.astype(x.dtype, copy=False)\n",
    "\n",
    "    return out, cache\n",
    "\n",
    "def dropout_backward(dout, cache):\n",
    "    \"\"\"\n",
    "    Perform the backward pass for (inverted) dropout.\n",
    "\n",
    "    Inputs:\n",
    "    - dout: Upstream derivatives, of any shape\n",
    "    - cache: (dropout_param, mask) from dropout_forward.\n",
    "    \"\"\"\n",
    "    dropout_param, mask = cache\n",
    "    mode = dropout_param['mode']\n",
    "\n",
    "    dx = None\n",
    "    if mode == 'train':\n",
    "    # ================================================================ #\n",
    "    # YOUR CODE HERE:\n",
    "    #   Implement the inverted dropout backward pass during training time.\n",
    "    # ================================================================ #\n",
    "        dx = mask/dropout_param['p']*dout\n",
    "        pass\n",
    "    # ================================================================ #\n",
    "    # END YOUR CODE HERE\n",
    "    # ================================================================ #\n",
    "    elif mode == 'test':\n",
    "    # ================================================================ #\n",
    "    # YOUR CODE HERE:\n",
    "    #   Implement the inverted dropout backward pass during test time.\n",
    "    # ================================================================ #\n",
    "        dx = dout\n",
    "        pass\n",
    "    # ================================================================ #\n",
    "    # END YOUR CODE HERE\n",
    "    # ================================================================ #\n",
    "    return dx"
   ]
  }
 ],
 "metadata": {
  "kernelspec": {
   "display_name": "NLP",
   "language": "python",
   "name": "nlp"
  },
  "language_info": {
   "codemirror_mode": {
    "name": "ipython",
    "version": 3
   },
   "file_extension": ".py",
   "mimetype": "text/x-python",
   "name": "python",
   "nbconvert_exporter": "python",
   "pygments_lexer": "ipython3",
   "version": "3.7.3"
  }
 },
 "nbformat": 4,
 "nbformat_minor": 2
}
