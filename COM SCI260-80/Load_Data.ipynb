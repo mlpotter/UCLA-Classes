{
 "cells": [
  {
   "cell_type": "code",
   "execution_count": 11,
   "metadata": {},
   "outputs": [],
   "source": [
    "from utils import *\n",
    "import torch"
   ]
  },
  {
   "cell_type": "code",
   "execution_count": 3,
   "metadata": {},
   "outputs": [
    {
     "name": "stdout",
     "output_type": "stream",
     "text": [
      "(10183, 300) (10183, 20) (7532, 300) (7532, 20) (54071, 300) (54071, 20)\n",
      "61603\n"
     ]
    }
   ],
   "source": [
    "adj, features, y_train, y_val, y_test, train_mask, val_mask, test_mask, train_size, test_size = load_corpus(\"20ng\")"
   ]
  },
  {
   "cell_type": "code",
   "execution_count": 12,
   "metadata": {},
   "outputs": [
    {
     "data": {
      "text/plain": [
       "tensor(indices=tensor([[    0,     0,     0,  ...,     0,     0,     0],\n",
       "                       [11545, 11930, 12023,  ..., 53183, 53232, 53520]]),\n",
       "       values=tensor([4.4414e+00, 2.9759e-03, 4.4651e+01,  ...,\n",
       "                      7.5886e+00, 2.2278e+00, 2.7383e+00]),\n",
       "       size=(61603, 61603), nnz=26928994, layout=torch.sparse_coo)"
      ]
     },
     "execution_count": 12,
     "metadata": {},
     "output_type": "execute_result"
    }
   ],
   "source": [
    "indices = torch.LongTensor(np.vstack(np.unravel_index(adj.indices,adj.shape)))\n",
    "values = torch.FloatTensor(adj.data)\n",
    "\n",
    "torch.sparse.FloatTensor(indices,values,torch.Size(adj.shape))"
   ]
  },
  {
   "cell_type": "code",
   "execution_count": 15,
   "metadata": {},
   "outputs": [],
   "source": [
    "g = torch.eye(adj.shape[0])"
   ]
  },
  {
   "cell_type": "code",
   "execution_count": null,
   "metadata": {},
   "outputs": [],
   "source": []
  }
 ],
 "metadata": {
  "kernelspec": {
   "display_name": "NLP",
   "language": "python",
   "name": "nlp"
  },
  "language_info": {
   "codemirror_mode": {
    "name": "ipython",
    "version": 3
   },
   "file_extension": ".py",
   "mimetype": "text/x-python",
   "name": "python",
   "nbconvert_exporter": "python",
   "pygments_lexer": "ipython3",
   "version": "3.7.3"
  }
 },
 "nbformat": 4,
 "nbformat_minor": 4
}
